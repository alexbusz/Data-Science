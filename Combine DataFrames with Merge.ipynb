{
 "cells": [
  {
   "cell_type": "code",
   "execution_count": 1,
   "id": "0f4602d4",
   "metadata": {},
   "outputs": [],
   "source": [
    "import pandas as pd\n",
    "import numpy as np\n",
    "import matplotlib.pyplot as plt\n",
    "from sklearn.linear_model import LinearRegression\n",
    "from sklearn import datasets"
   ]
  },
  {
   "cell_type": "code",
   "execution_count": 2,
   "id": "b1c216e0",
   "metadata": {},
   "outputs": [],
   "source": [
    "import os\n",
    "os.chdir('downloads')"
   ]
  },
  {
   "cell_type": "code",
   "execution_count": 3,
   "id": "230b0a1e",
   "metadata": {},
   "outputs": [
    {
     "data": {
      "text/plain": [
       "'C:\\\\Users\\\\petri\\\\downloads'"
      ]
     },
     "execution_count": 3,
     "metadata": {},
     "output_type": "execute_result"
    }
   ],
   "source": [
    "os.getcwd()"
   ]
  },
  {
   "cell_type": "code",
   "execution_count": 4,
   "id": "596919f4",
   "metadata": {},
   "outputs": [],
   "source": [
    "spi = pd.read_csv('API_SP.POP.TOTL_DS2_en_csv_v2_3158886.csv', skiprows=4)\n",
    "meta = pd.read_csv('Metadata_Country_API_IQ.SPI.OVRL_DS2_en_csv_v2_3186678.csv')\n",
    "gdp = pd.read_csv('API_NY.GDP.PCAP.CD_DS2_en_csv_v2_3159040.csv', skiprows=4)"
   ]
  },
  {
   "cell_type": "code",
   "execution_count": 5,
   "id": "7567d8bc",
   "metadata": {},
   "outputs": [
    {
     "data": {
      "text/html": [
       "<div>\n",
       "<style scoped>\n",
       "    .dataframe tbody tr th:only-of-type {\n",
       "        vertical-align: middle;\n",
       "    }\n",
       "\n",
       "    .dataframe tbody tr th {\n",
       "        vertical-align: top;\n",
       "    }\n",
       "\n",
       "    .dataframe thead th {\n",
       "        text-align: right;\n",
       "    }\n",
       "</style>\n",
       "<table border=\"1\" class=\"dataframe\">\n",
       "  <thead>\n",
       "    <tr style=\"text-align: right;\">\n",
       "      <th></th>\n",
       "      <th>Country Name</th>\n",
       "      <th>Country Code</th>\n",
       "      <th>Indicator Name</th>\n",
       "      <th>Indicator Code</th>\n",
       "      <th>1960</th>\n",
       "      <th>1961</th>\n",
       "      <th>1962</th>\n",
       "      <th>1963</th>\n",
       "      <th>1964</th>\n",
       "      <th>1965</th>\n",
       "      <th>...</th>\n",
       "      <th>2012</th>\n",
       "      <th>2013</th>\n",
       "      <th>2014</th>\n",
       "      <th>2015</th>\n",
       "      <th>2016</th>\n",
       "      <th>2017</th>\n",
       "      <th>2018</th>\n",
       "      <th>2019</th>\n",
       "      <th>2020</th>\n",
       "      <th>Unnamed: 65</th>\n",
       "    </tr>\n",
       "  </thead>\n",
       "  <tbody>\n",
       "    <tr>\n",
       "      <th>0</th>\n",
       "      <td>Aruba</td>\n",
       "      <td>ABW</td>\n",
       "      <td>Population, total</td>\n",
       "      <td>SP.POP.TOTL</td>\n",
       "      <td>54208.0</td>\n",
       "      <td>55434.0</td>\n",
       "      <td>56234.0</td>\n",
       "      <td>56699.0</td>\n",
       "      <td>57029.0</td>\n",
       "      <td>57357.0</td>\n",
       "      <td>...</td>\n",
       "      <td>102565.0</td>\n",
       "      <td>103165.0</td>\n",
       "      <td>103776.0</td>\n",
       "      <td>104339.0</td>\n",
       "      <td>104865.0</td>\n",
       "      <td>105361.0</td>\n",
       "      <td>105846.0</td>\n",
       "      <td>106310.0</td>\n",
       "      <td>106766.0</td>\n",
       "      <td>NaN</td>\n",
       "    </tr>\n",
       "    <tr>\n",
       "      <th>1</th>\n",
       "      <td>Africa Eastern and Southern</td>\n",
       "      <td>AFE</td>\n",
       "      <td>Population, total</td>\n",
       "      <td>SP.POP.TOTL</td>\n",
       "      <td>130836765.0</td>\n",
       "      <td>134159786.0</td>\n",
       "      <td>137614644.0</td>\n",
       "      <td>141202036.0</td>\n",
       "      <td>144920186.0</td>\n",
       "      <td>148769974.0</td>\n",
       "      <td>...</td>\n",
       "      <td>547482863.0</td>\n",
       "      <td>562601578.0</td>\n",
       "      <td>578075373.0</td>\n",
       "      <td>593871847.0</td>\n",
       "      <td>609978946.0</td>\n",
       "      <td>626392880.0</td>\n",
       "      <td>643090131.0</td>\n",
       "      <td>660046272.0</td>\n",
       "      <td>677243299.0</td>\n",
       "      <td>NaN</td>\n",
       "    </tr>\n",
       "    <tr>\n",
       "      <th>2</th>\n",
       "      <td>Afghanistan</td>\n",
       "      <td>AFG</td>\n",
       "      <td>Population, total</td>\n",
       "      <td>SP.POP.TOTL</td>\n",
       "      <td>8996967.0</td>\n",
       "      <td>9169406.0</td>\n",
       "      <td>9351442.0</td>\n",
       "      <td>9543200.0</td>\n",
       "      <td>9744772.0</td>\n",
       "      <td>9956318.0</td>\n",
       "      <td>...</td>\n",
       "      <td>31161378.0</td>\n",
       "      <td>32269592.0</td>\n",
       "      <td>33370804.0</td>\n",
       "      <td>34413603.0</td>\n",
       "      <td>35383028.0</td>\n",
       "      <td>36296111.0</td>\n",
       "      <td>37171922.0</td>\n",
       "      <td>38041757.0</td>\n",
       "      <td>38928341.0</td>\n",
       "      <td>NaN</td>\n",
       "    </tr>\n",
       "    <tr>\n",
       "      <th>3</th>\n",
       "      <td>Africa Western and Central</td>\n",
       "      <td>AFW</td>\n",
       "      <td>Population, total</td>\n",
       "      <td>SP.POP.TOTL</td>\n",
       "      <td>96396419.0</td>\n",
       "      <td>98407221.0</td>\n",
       "      <td>100506960.0</td>\n",
       "      <td>102691339.0</td>\n",
       "      <td>104953470.0</td>\n",
       "      <td>107289875.0</td>\n",
       "      <td>...</td>\n",
       "      <td>370243017.0</td>\n",
       "      <td>380437896.0</td>\n",
       "      <td>390882979.0</td>\n",
       "      <td>401586651.0</td>\n",
       "      <td>412551299.0</td>\n",
       "      <td>423769930.0</td>\n",
       "      <td>435229381.0</td>\n",
       "      <td>446911598.0</td>\n",
       "      <td>458803476.0</td>\n",
       "      <td>NaN</td>\n",
       "    </tr>\n",
       "    <tr>\n",
       "      <th>4</th>\n",
       "      <td>Angola</td>\n",
       "      <td>AGO</td>\n",
       "      <td>Population, total</td>\n",
       "      <td>SP.POP.TOTL</td>\n",
       "      <td>5454938.0</td>\n",
       "      <td>5531451.0</td>\n",
       "      <td>5608499.0</td>\n",
       "      <td>5679409.0</td>\n",
       "      <td>5734995.0</td>\n",
       "      <td>5770573.0</td>\n",
       "      <td>...</td>\n",
       "      <td>25107925.0</td>\n",
       "      <td>26015786.0</td>\n",
       "      <td>26941773.0</td>\n",
       "      <td>27884380.0</td>\n",
       "      <td>28842482.0</td>\n",
       "      <td>29816769.0</td>\n",
       "      <td>30809787.0</td>\n",
       "      <td>31825299.0</td>\n",
       "      <td>32866268.0</td>\n",
       "      <td>NaN</td>\n",
       "    </tr>\n",
       "  </tbody>\n",
       "</table>\n",
       "<p>5 rows × 66 columns</p>\n",
       "</div>"
      ],
      "text/plain": [
       "                  Country Name Country Code     Indicator Name Indicator Code  \\\n",
       "0                        Aruba          ABW  Population, total    SP.POP.TOTL   \n",
       "1  Africa Eastern and Southern          AFE  Population, total    SP.POP.TOTL   \n",
       "2                  Afghanistan          AFG  Population, total    SP.POP.TOTL   \n",
       "3   Africa Western and Central          AFW  Population, total    SP.POP.TOTL   \n",
       "4                       Angola          AGO  Population, total    SP.POP.TOTL   \n",
       "\n",
       "          1960         1961         1962         1963         1964  \\\n",
       "0      54208.0      55434.0      56234.0      56699.0      57029.0   \n",
       "1  130836765.0  134159786.0  137614644.0  141202036.0  144920186.0   \n",
       "2    8996967.0    9169406.0    9351442.0    9543200.0    9744772.0   \n",
       "3   96396419.0   98407221.0  100506960.0  102691339.0  104953470.0   \n",
       "4    5454938.0    5531451.0    5608499.0    5679409.0    5734995.0   \n",
       "\n",
       "          1965  ...         2012         2013         2014         2015  \\\n",
       "0      57357.0  ...     102565.0     103165.0     103776.0     104339.0   \n",
       "1  148769974.0  ...  547482863.0  562601578.0  578075373.0  593871847.0   \n",
       "2    9956318.0  ...   31161378.0   32269592.0   33370804.0   34413603.0   \n",
       "3  107289875.0  ...  370243017.0  380437896.0  390882979.0  401586651.0   \n",
       "4    5770573.0  ...   25107925.0   26015786.0   26941773.0   27884380.0   \n",
       "\n",
       "          2016         2017         2018         2019         2020  \\\n",
       "0     104865.0     105361.0     105846.0     106310.0     106766.0   \n",
       "1  609978946.0  626392880.0  643090131.0  660046272.0  677243299.0   \n",
       "2   35383028.0   36296111.0   37171922.0   38041757.0   38928341.0   \n",
       "3  412551299.0  423769930.0  435229381.0  446911598.0  458803476.0   \n",
       "4   28842482.0   29816769.0   30809787.0   31825299.0   32866268.0   \n",
       "\n",
       "   Unnamed: 65  \n",
       "0          NaN  \n",
       "1          NaN  \n",
       "2          NaN  \n",
       "3          NaN  \n",
       "4          NaN  \n",
       "\n",
       "[5 rows x 66 columns]"
      ]
     },
     "execution_count": 5,
     "metadata": {},
     "output_type": "execute_result"
    }
   ],
   "source": [
    "spi.head()"
   ]
  },
  {
   "cell_type": "code",
   "execution_count": 6,
   "id": "d8fbb6ff",
   "metadata": {},
   "outputs": [
    {
     "data": {
      "text/html": [
       "<div>\n",
       "<style scoped>\n",
       "    .dataframe tbody tr th:only-of-type {\n",
       "        vertical-align: middle;\n",
       "    }\n",
       "\n",
       "    .dataframe tbody tr th {\n",
       "        vertical-align: top;\n",
       "    }\n",
       "\n",
       "    .dataframe thead th {\n",
       "        text-align: right;\n",
       "    }\n",
       "</style>\n",
       "<table border=\"1\" class=\"dataframe\">\n",
       "  <thead>\n",
       "    <tr style=\"text-align: right;\">\n",
       "      <th></th>\n",
       "      <th>Country Code</th>\n",
       "      <th>Region</th>\n",
       "      <th>IncomeGroup</th>\n",
       "      <th>SpecialNotes</th>\n",
       "      <th>TableName</th>\n",
       "      <th>Unnamed: 5</th>\n",
       "    </tr>\n",
       "  </thead>\n",
       "  <tbody>\n",
       "    <tr>\n",
       "      <th>0</th>\n",
       "      <td>ABW</td>\n",
       "      <td>Latin America &amp; Caribbean</td>\n",
       "      <td>High income</td>\n",
       "      <td>NaN</td>\n",
       "      <td>Aruba</td>\n",
       "      <td>NaN</td>\n",
       "    </tr>\n",
       "    <tr>\n",
       "      <th>1</th>\n",
       "      <td>AFE</td>\n",
       "      <td>NaN</td>\n",
       "      <td>NaN</td>\n",
       "      <td>26 countries, stretching from the Red Sea in t...</td>\n",
       "      <td>Africa Eastern and Southern</td>\n",
       "      <td>NaN</td>\n",
       "    </tr>\n",
       "    <tr>\n",
       "      <th>2</th>\n",
       "      <td>AFG</td>\n",
       "      <td>South Asia</td>\n",
       "      <td>Low income</td>\n",
       "      <td>Fiscal year end: March 20; reporting period fo...</td>\n",
       "      <td>Afghanistan</td>\n",
       "      <td>NaN</td>\n",
       "    </tr>\n",
       "    <tr>\n",
       "      <th>3</th>\n",
       "      <td>AFW</td>\n",
       "      <td>NaN</td>\n",
       "      <td>NaN</td>\n",
       "      <td>22 countries, stretching from the westernmost ...</td>\n",
       "      <td>Africa Western and Central</td>\n",
       "      <td>NaN</td>\n",
       "    </tr>\n",
       "    <tr>\n",
       "      <th>4</th>\n",
       "      <td>AGO</td>\n",
       "      <td>Sub-Saharan Africa</td>\n",
       "      <td>Lower middle income</td>\n",
       "      <td>NaN</td>\n",
       "      <td>Angola</td>\n",
       "      <td>NaN</td>\n",
       "    </tr>\n",
       "  </tbody>\n",
       "</table>\n",
       "</div>"
      ],
      "text/plain": [
       "  Country Code                     Region          IncomeGroup  \\\n",
       "0          ABW  Latin America & Caribbean          High income   \n",
       "1          AFE                        NaN                  NaN   \n",
       "2          AFG                 South Asia           Low income   \n",
       "3          AFW                        NaN                  NaN   \n",
       "4          AGO         Sub-Saharan Africa  Lower middle income   \n",
       "\n",
       "                                        SpecialNotes  \\\n",
       "0                                                NaN   \n",
       "1  26 countries, stretching from the Red Sea in t...   \n",
       "2  Fiscal year end: March 20; reporting period fo...   \n",
       "3  22 countries, stretching from the westernmost ...   \n",
       "4                                                NaN   \n",
       "\n",
       "                     TableName  Unnamed: 5  \n",
       "0                        Aruba         NaN  \n",
       "1  Africa Eastern and Southern         NaN  \n",
       "2                  Afghanistan         NaN  \n",
       "3   Africa Western and Central         NaN  \n",
       "4                       Angola         NaN  "
      ]
     },
     "execution_count": 6,
     "metadata": {},
     "output_type": "execute_result"
    }
   ],
   "source": [
    "meta.head()"
   ]
  },
  {
   "cell_type": "code",
   "execution_count": 7,
   "id": "c4dbd12f",
   "metadata": {},
   "outputs": [
    {
     "data": {
      "text/html": [
       "<div>\n",
       "<style scoped>\n",
       "    .dataframe tbody tr th:only-of-type {\n",
       "        vertical-align: middle;\n",
       "    }\n",
       "\n",
       "    .dataframe tbody tr th {\n",
       "        vertical-align: top;\n",
       "    }\n",
       "\n",
       "    .dataframe thead th {\n",
       "        text-align: right;\n",
       "    }\n",
       "</style>\n",
       "<table border=\"1\" class=\"dataframe\">\n",
       "  <thead>\n",
       "    <tr style=\"text-align: right;\">\n",
       "      <th></th>\n",
       "      <th>Country Name</th>\n",
       "      <th>Country Code</th>\n",
       "      <th>Indicator Name</th>\n",
       "      <th>Indicator Code</th>\n",
       "      <th>1960</th>\n",
       "      <th>1961</th>\n",
       "      <th>1962</th>\n",
       "      <th>1963</th>\n",
       "      <th>1964</th>\n",
       "      <th>1965</th>\n",
       "      <th>...</th>\n",
       "      <th>2012</th>\n",
       "      <th>2013</th>\n",
       "      <th>2014</th>\n",
       "      <th>2015</th>\n",
       "      <th>2016</th>\n",
       "      <th>2017</th>\n",
       "      <th>2018</th>\n",
       "      <th>2019</th>\n",
       "      <th>2020</th>\n",
       "      <th>Unnamed: 65</th>\n",
       "    </tr>\n",
       "  </thead>\n",
       "  <tbody>\n",
       "    <tr>\n",
       "      <th>0</th>\n",
       "      <td>Aruba</td>\n",
       "      <td>ABW</td>\n",
       "      <td>GDP per capita (current US$)</td>\n",
       "      <td>NY.GDP.PCAP.CD</td>\n",
       "      <td>NaN</td>\n",
       "      <td>NaN</td>\n",
       "      <td>NaN</td>\n",
       "      <td>NaN</td>\n",
       "      <td>NaN</td>\n",
       "      <td>NaN</td>\n",
       "      <td>...</td>\n",
       "      <td>24712.493263</td>\n",
       "      <td>26441.619936</td>\n",
       "      <td>26893.011506</td>\n",
       "      <td>28396.908423</td>\n",
       "      <td>28452.170615</td>\n",
       "      <td>29350.805019</td>\n",
       "      <td>30253.279358</td>\n",
       "      <td>NaN</td>\n",
       "      <td>NaN</td>\n",
       "      <td>NaN</td>\n",
       "    </tr>\n",
       "    <tr>\n",
       "      <th>1</th>\n",
       "      <td>Africa Eastern and Southern</td>\n",
       "      <td>AFE</td>\n",
       "      <td>GDP per capita (current US$)</td>\n",
       "      <td>NY.GDP.PCAP.CD</td>\n",
       "      <td>147.836769</td>\n",
       "      <td>147.238537</td>\n",
       "      <td>156.426780</td>\n",
       "      <td>182.521139</td>\n",
       "      <td>162.594548</td>\n",
       "      <td>180.489043</td>\n",
       "      <td>...</td>\n",
       "      <td>1672.363658</td>\n",
       "      <td>1653.188436</td>\n",
       "      <td>1658.650062</td>\n",
       "      <td>1507.800256</td>\n",
       "      <td>1404.953164</td>\n",
       "      <td>1540.232473</td>\n",
       "      <td>1534.171767</td>\n",
       "      <td>1485.307425</td>\n",
       "      <td>1330.140232</td>\n",
       "      <td>NaN</td>\n",
       "    </tr>\n",
       "    <tr>\n",
       "      <th>2</th>\n",
       "      <td>Afghanistan</td>\n",
       "      <td>AFG</td>\n",
       "      <td>GDP per capita (current US$)</td>\n",
       "      <td>NY.GDP.PCAP.CD</td>\n",
       "      <td>59.773234</td>\n",
       "      <td>59.860900</td>\n",
       "      <td>58.458009</td>\n",
       "      <td>78.706429</td>\n",
       "      <td>82.095307</td>\n",
       "      <td>101.108325</td>\n",
       "      <td>...</td>\n",
       "      <td>641.871438</td>\n",
       "      <td>637.165464</td>\n",
       "      <td>613.856505</td>\n",
       "      <td>578.466353</td>\n",
       "      <td>509.220100</td>\n",
       "      <td>519.888913</td>\n",
       "      <td>493.756581</td>\n",
       "      <td>507.103392</td>\n",
       "      <td>508.808409</td>\n",
       "      <td>NaN</td>\n",
       "    </tr>\n",
       "    <tr>\n",
       "      <th>3</th>\n",
       "      <td>Africa Western and Central</td>\n",
       "      <td>AFW</td>\n",
       "      <td>GDP per capita (current US$)</td>\n",
       "      <td>NY.GDP.PCAP.CD</td>\n",
       "      <td>107.963779</td>\n",
       "      <td>113.114697</td>\n",
       "      <td>118.865837</td>\n",
       "      <td>123.478967</td>\n",
       "      <td>131.892939</td>\n",
       "      <td>138.566819</td>\n",
       "      <td>...</td>\n",
       "      <td>1936.390962</td>\n",
       "      <td>2123.392433</td>\n",
       "      <td>2166.743309</td>\n",
       "      <td>1886.248158</td>\n",
       "      <td>1666.422406</td>\n",
       "      <td>1606.978332</td>\n",
       "      <td>1695.959215</td>\n",
       "      <td>1772.339155</td>\n",
       "      <td>1714.426800</td>\n",
       "      <td>NaN</td>\n",
       "    </tr>\n",
       "    <tr>\n",
       "      <th>4</th>\n",
       "      <td>Angola</td>\n",
       "      <td>AGO</td>\n",
       "      <td>GDP per capita (current US$)</td>\n",
       "      <td>NY.GDP.PCAP.CD</td>\n",
       "      <td>NaN</td>\n",
       "      <td>NaN</td>\n",
       "      <td>NaN</td>\n",
       "      <td>NaN</td>\n",
       "      <td>NaN</td>\n",
       "      <td>NaN</td>\n",
       "      <td>...</td>\n",
       "      <td>5100.097027</td>\n",
       "      <td>5254.881126</td>\n",
       "      <td>5408.411700</td>\n",
       "      <td>4166.979833</td>\n",
       "      <td>3506.073128</td>\n",
       "      <td>4095.810057</td>\n",
       "      <td>3289.643995</td>\n",
       "      <td>2809.626088</td>\n",
       "      <td>1895.770869</td>\n",
       "      <td>NaN</td>\n",
       "    </tr>\n",
       "  </tbody>\n",
       "</table>\n",
       "<p>5 rows × 66 columns</p>\n",
       "</div>"
      ],
      "text/plain": [
       "                  Country Name Country Code                Indicator Name  \\\n",
       "0                        Aruba          ABW  GDP per capita (current US$)   \n",
       "1  Africa Eastern and Southern          AFE  GDP per capita (current US$)   \n",
       "2                  Afghanistan          AFG  GDP per capita (current US$)   \n",
       "3   Africa Western and Central          AFW  GDP per capita (current US$)   \n",
       "4                       Angola          AGO  GDP per capita (current US$)   \n",
       "\n",
       "   Indicator Code        1960        1961        1962        1963        1964  \\\n",
       "0  NY.GDP.PCAP.CD         NaN         NaN         NaN         NaN         NaN   \n",
       "1  NY.GDP.PCAP.CD  147.836769  147.238537  156.426780  182.521139  162.594548   \n",
       "2  NY.GDP.PCAP.CD   59.773234   59.860900   58.458009   78.706429   82.095307   \n",
       "3  NY.GDP.PCAP.CD  107.963779  113.114697  118.865837  123.478967  131.892939   \n",
       "4  NY.GDP.PCAP.CD         NaN         NaN         NaN         NaN         NaN   \n",
       "\n",
       "         1965  ...          2012          2013          2014          2015  \\\n",
       "0         NaN  ...  24712.493263  26441.619936  26893.011506  28396.908423   \n",
       "1  180.489043  ...   1672.363658   1653.188436   1658.650062   1507.800256   \n",
       "2  101.108325  ...    641.871438    637.165464    613.856505    578.466353   \n",
       "3  138.566819  ...   1936.390962   2123.392433   2166.743309   1886.248158   \n",
       "4         NaN  ...   5100.097027   5254.881126   5408.411700   4166.979833   \n",
       "\n",
       "           2016          2017          2018         2019         2020  \\\n",
       "0  28452.170615  29350.805019  30253.279358          NaN          NaN   \n",
       "1   1404.953164   1540.232473   1534.171767  1485.307425  1330.140232   \n",
       "2    509.220100    519.888913    493.756581   507.103392   508.808409   \n",
       "3   1666.422406   1606.978332   1695.959215  1772.339155  1714.426800   \n",
       "4   3506.073128   4095.810057   3289.643995  2809.626088  1895.770869   \n",
       "\n",
       "   Unnamed: 65  \n",
       "0          NaN  \n",
       "1          NaN  \n",
       "2          NaN  \n",
       "3          NaN  \n",
       "4          NaN  \n",
       "\n",
       "[5 rows x 66 columns]"
      ]
     },
     "execution_count": 7,
     "metadata": {},
     "output_type": "execute_result"
    }
   ],
   "source": [
    "gdp.head()"
   ]
  },
  {
   "cell_type": "code",
   "execution_count": 8,
   "id": "86fd9ce2",
   "metadata": {},
   "outputs": [],
   "source": [
    "# Remove columns\n",
    "spi=spi[['Country Code', '2019']]\n",
    "gdp=gdp[['Country Code', '2019']]\n",
    "meta=meta[['Country Code', 'Region']]"
   ]
  },
  {
   "cell_type": "code",
   "execution_count": 9,
   "id": "85ea1dd2",
   "metadata": {},
   "outputs": [
    {
     "data": {
      "text/plain": [
       "(266, 264)"
      ]
     },
     "execution_count": 9,
     "metadata": {},
     "output_type": "execute_result"
    }
   ],
   "source": [
    "# Check for null (missing) values\n",
    "len(spi), len (spi.dropna())"
   ]
  },
  {
   "cell_type": "code",
   "execution_count": 10,
   "id": "8de91d2f",
   "metadata": {},
   "outputs": [
    {
     "data": {
      "text/plain": [
       "(266, 247)"
      ]
     },
     "execution_count": 10,
     "metadata": {},
     "output_type": "execute_result"
    }
   ],
   "source": [
    "len(gdp), len (gdp.dropna())"
   ]
  },
  {
   "cell_type": "code",
   "execution_count": 11,
   "id": "189535f9",
   "metadata": {},
   "outputs": [],
   "source": [
    "# Drop rows\n",
    "spi=spi.dropna()\n",
    "gdp=gdp.dropna()"
   ]
  },
  {
   "cell_type": "code",
   "execution_count": 12,
   "id": "1c2180b1",
   "metadata": {},
   "outputs": [
    {
     "data": {
      "text/html": [
       "<div>\n",
       "<style scoped>\n",
       "    .dataframe tbody tr th:only-of-type {\n",
       "        vertical-align: middle;\n",
       "    }\n",
       "\n",
       "    .dataframe tbody tr th {\n",
       "        vertical-align: top;\n",
       "    }\n",
       "\n",
       "    .dataframe thead th {\n",
       "        text-align: right;\n",
       "    }\n",
       "</style>\n",
       "<table border=\"1\" class=\"dataframe\">\n",
       "  <thead>\n",
       "    <tr style=\"text-align: right;\">\n",
       "      <th></th>\n",
       "      <th>Country Code</th>\n",
       "      <th>2019</th>\n",
       "    </tr>\n",
       "  </thead>\n",
       "  <tbody>\n",
       "    <tr>\n",
       "      <th>0</th>\n",
       "      <td>ABW</td>\n",
       "      <td>106310.0</td>\n",
       "    </tr>\n",
       "    <tr>\n",
       "      <th>1</th>\n",
       "      <td>AFE</td>\n",
       "      <td>660046272.0</td>\n",
       "    </tr>\n",
       "    <tr>\n",
       "      <th>2</th>\n",
       "      <td>AFG</td>\n",
       "      <td>38041757.0</td>\n",
       "    </tr>\n",
       "    <tr>\n",
       "      <th>3</th>\n",
       "      <td>AFW</td>\n",
       "      <td>446911598.0</td>\n",
       "    </tr>\n",
       "    <tr>\n",
       "      <th>4</th>\n",
       "      <td>AGO</td>\n",
       "      <td>31825299.0</td>\n",
       "    </tr>\n",
       "  </tbody>\n",
       "</table>\n",
       "</div>"
      ],
      "text/plain": [
       "  Country Code         2019\n",
       "0          ABW     106310.0\n",
       "1          AFE  660046272.0\n",
       "2          AFG   38041757.0\n",
       "3          AFW  446911598.0\n",
       "4          AGO   31825299.0"
      ]
     },
     "execution_count": 12,
     "metadata": {},
     "output_type": "execute_result"
    }
   ],
   "source": [
    "spi.head()"
   ]
  },
  {
   "cell_type": "code",
   "execution_count": 13,
   "id": "1a03bca7",
   "metadata": {},
   "outputs": [
    {
     "data": {
      "text/html": [
       "<div>\n",
       "<style scoped>\n",
       "    .dataframe tbody tr th:only-of-type {\n",
       "        vertical-align: middle;\n",
       "    }\n",
       "\n",
       "    .dataframe tbody tr th {\n",
       "        vertical-align: top;\n",
       "    }\n",
       "\n",
       "    .dataframe thead th {\n",
       "        text-align: right;\n",
       "    }\n",
       "</style>\n",
       "<table border=\"1\" class=\"dataframe\">\n",
       "  <thead>\n",
       "    <tr style=\"text-align: right;\">\n",
       "      <th></th>\n",
       "      <th>Country Code</th>\n",
       "      <th>2019</th>\n",
       "    </tr>\n",
       "  </thead>\n",
       "  <tbody>\n",
       "    <tr>\n",
       "      <th>1</th>\n",
       "      <td>AFE</td>\n",
       "      <td>1485.307425</td>\n",
       "    </tr>\n",
       "    <tr>\n",
       "      <th>2</th>\n",
       "      <td>AFG</td>\n",
       "      <td>507.103392</td>\n",
       "    </tr>\n",
       "    <tr>\n",
       "      <th>3</th>\n",
       "      <td>AFW</td>\n",
       "      <td>1772.339155</td>\n",
       "    </tr>\n",
       "    <tr>\n",
       "      <th>4</th>\n",
       "      <td>AGO</td>\n",
       "      <td>2809.626088</td>\n",
       "    </tr>\n",
       "    <tr>\n",
       "      <th>5</th>\n",
       "      <td>ALB</td>\n",
       "      <td>5355.847795</td>\n",
       "    </tr>\n",
       "  </tbody>\n",
       "</table>\n",
       "</div>"
      ],
      "text/plain": [
       "  Country Code         2019\n",
       "1          AFE  1485.307425\n",
       "2          AFG   507.103392\n",
       "3          AFW  1772.339155\n",
       "4          AGO  2809.626088\n",
       "5          ALB  5355.847795"
      ]
     },
     "execution_count": 13,
     "metadata": {},
     "output_type": "execute_result"
    }
   ],
   "source": [
    "gdp.head()"
   ]
  },
  {
   "cell_type": "code",
   "execution_count": 14,
   "id": "659ebca0",
   "metadata": {},
   "outputs": [],
   "source": [
    "# Rename columns\n",
    "spi=spi.rename(columns={'2019': 'SPI'})\n",
    "gdp=gdp.rename(columns={'2019': 'GDP per capacita'})"
   ]
  },
  {
   "cell_type": "code",
   "execution_count": 15,
   "id": "bae243b2",
   "metadata": {},
   "outputs": [
    {
     "data": {
      "text/html": [
       "<div>\n",
       "<style scoped>\n",
       "    .dataframe tbody tr th:only-of-type {\n",
       "        vertical-align: middle;\n",
       "    }\n",
       "\n",
       "    .dataframe tbody tr th {\n",
       "        vertical-align: top;\n",
       "    }\n",
       "\n",
       "    .dataframe thead th {\n",
       "        text-align: right;\n",
       "    }\n",
       "</style>\n",
       "<table border=\"1\" class=\"dataframe\">\n",
       "  <thead>\n",
       "    <tr style=\"text-align: right;\">\n",
       "      <th></th>\n",
       "      <th>Country Code</th>\n",
       "      <th>SPI</th>\n",
       "    </tr>\n",
       "  </thead>\n",
       "  <tbody>\n",
       "    <tr>\n",
       "      <th>0</th>\n",
       "      <td>ABW</td>\n",
       "      <td>106310.0</td>\n",
       "    </tr>\n",
       "    <tr>\n",
       "      <th>1</th>\n",
       "      <td>AFE</td>\n",
       "      <td>660046272.0</td>\n",
       "    </tr>\n",
       "    <tr>\n",
       "      <th>2</th>\n",
       "      <td>AFG</td>\n",
       "      <td>38041757.0</td>\n",
       "    </tr>\n",
       "    <tr>\n",
       "      <th>3</th>\n",
       "      <td>AFW</td>\n",
       "      <td>446911598.0</td>\n",
       "    </tr>\n",
       "    <tr>\n",
       "      <th>4</th>\n",
       "      <td>AGO</td>\n",
       "      <td>31825299.0</td>\n",
       "    </tr>\n",
       "  </tbody>\n",
       "</table>\n",
       "</div>"
      ],
      "text/plain": [
       "  Country Code          SPI\n",
       "0          ABW     106310.0\n",
       "1          AFE  660046272.0\n",
       "2          AFG   38041757.0\n",
       "3          AFW  446911598.0\n",
       "4          AGO   31825299.0"
      ]
     },
     "execution_count": 15,
     "metadata": {},
     "output_type": "execute_result"
    }
   ],
   "source": [
    "spi.head()"
   ]
  },
  {
   "cell_type": "code",
   "execution_count": 16,
   "id": "c79e57b3",
   "metadata": {},
   "outputs": [
    {
     "data": {
      "text/html": [
       "<div>\n",
       "<style scoped>\n",
       "    .dataframe tbody tr th:only-of-type {\n",
       "        vertical-align: middle;\n",
       "    }\n",
       "\n",
       "    .dataframe tbody tr th {\n",
       "        vertical-align: top;\n",
       "    }\n",
       "\n",
       "    .dataframe thead th {\n",
       "        text-align: right;\n",
       "    }\n",
       "</style>\n",
       "<table border=\"1\" class=\"dataframe\">\n",
       "  <thead>\n",
       "    <tr style=\"text-align: right;\">\n",
       "      <th></th>\n",
       "      <th>Country Code</th>\n",
       "      <th>GDP per capacita</th>\n",
       "    </tr>\n",
       "  </thead>\n",
       "  <tbody>\n",
       "    <tr>\n",
       "      <th>1</th>\n",
       "      <td>AFE</td>\n",
       "      <td>1485.307425</td>\n",
       "    </tr>\n",
       "    <tr>\n",
       "      <th>2</th>\n",
       "      <td>AFG</td>\n",
       "      <td>507.103392</td>\n",
       "    </tr>\n",
       "    <tr>\n",
       "      <th>3</th>\n",
       "      <td>AFW</td>\n",
       "      <td>1772.339155</td>\n",
       "    </tr>\n",
       "    <tr>\n",
       "      <th>4</th>\n",
       "      <td>AGO</td>\n",
       "      <td>2809.626088</td>\n",
       "    </tr>\n",
       "    <tr>\n",
       "      <th>5</th>\n",
       "      <td>ALB</td>\n",
       "      <td>5355.847795</td>\n",
       "    </tr>\n",
       "  </tbody>\n",
       "</table>\n",
       "</div>"
      ],
      "text/plain": [
       "  Country Code  GDP per capacita\n",
       "1          AFE       1485.307425\n",
       "2          AFG        507.103392\n",
       "3          AFW       1772.339155\n",
       "4          AGO       2809.626088\n",
       "5          ALB       5355.847795"
      ]
     },
     "execution_count": 16,
     "metadata": {},
     "output_type": "execute_result"
    }
   ],
   "source": [
    "gdp.head()"
   ]
  },
  {
   "cell_type": "code",
   "execution_count": 17,
   "id": "8924bb5d",
   "metadata": {},
   "outputs": [],
   "source": [
    "# Merge data\n",
    "dataset=spi.merge(gdp, how='inner', on='Country Code')\n",
    "dataset=dataset.merge(meta, how='inner', on='Country Code')"
   ]
  },
  {
   "cell_type": "code",
   "execution_count": 18,
   "id": "e1c80b8a",
   "metadata": {},
   "outputs": [
    {
     "data": {
      "text/html": [
       "<div>\n",
       "<style scoped>\n",
       "    .dataframe tbody tr th:only-of-type {\n",
       "        vertical-align: middle;\n",
       "    }\n",
       "\n",
       "    .dataframe tbody tr th {\n",
       "        vertical-align: top;\n",
       "    }\n",
       "\n",
       "    .dataframe thead th {\n",
       "        text-align: right;\n",
       "    }\n",
       "</style>\n",
       "<table border=\"1\" class=\"dataframe\">\n",
       "  <thead>\n",
       "    <tr style=\"text-align: right;\">\n",
       "      <th></th>\n",
       "      <th>Country Code</th>\n",
       "      <th>SPI</th>\n",
       "      <th>GDP per capacita</th>\n",
       "      <th>Region</th>\n",
       "    </tr>\n",
       "  </thead>\n",
       "  <tbody>\n",
       "    <tr>\n",
       "      <th>0</th>\n",
       "      <td>AFE</td>\n",
       "      <td>660046272.0</td>\n",
       "      <td>1485.307425</td>\n",
       "      <td>NaN</td>\n",
       "    </tr>\n",
       "    <tr>\n",
       "      <th>1</th>\n",
       "      <td>AFG</td>\n",
       "      <td>38041757.0</td>\n",
       "      <td>507.103392</td>\n",
       "      <td>South Asia</td>\n",
       "    </tr>\n",
       "    <tr>\n",
       "      <th>2</th>\n",
       "      <td>AFW</td>\n",
       "      <td>446911598.0</td>\n",
       "      <td>1772.339155</td>\n",
       "      <td>NaN</td>\n",
       "    </tr>\n",
       "    <tr>\n",
       "      <th>3</th>\n",
       "      <td>AGO</td>\n",
       "      <td>31825299.0</td>\n",
       "      <td>2809.626088</td>\n",
       "      <td>Sub-Saharan Africa</td>\n",
       "    </tr>\n",
       "    <tr>\n",
       "      <th>4</th>\n",
       "      <td>ALB</td>\n",
       "      <td>2854191.0</td>\n",
       "      <td>5355.847795</td>\n",
       "      <td>Europe &amp; Central Asia</td>\n",
       "    </tr>\n",
       "  </tbody>\n",
       "</table>\n",
       "</div>"
      ],
      "text/plain": [
       "  Country Code          SPI  GDP per capacita                 Region\n",
       "0          AFE  660046272.0       1485.307425                    NaN\n",
       "1          AFG   38041757.0        507.103392             South Asia\n",
       "2          AFW  446911598.0       1772.339155                    NaN\n",
       "3          AGO   31825299.0       2809.626088     Sub-Saharan Africa\n",
       "4          ALB    2854191.0       5355.847795  Europe & Central Asia"
      ]
     },
     "execution_count": 18,
     "metadata": {},
     "output_type": "execute_result"
    }
   ],
   "source": [
    "dataset.head()"
   ]
  },
  {
   "cell_type": "code",
   "execution_count": 21,
   "id": "fb859f85",
   "metadata": {},
   "outputs": [
    {
     "data": {
      "text/plain": [
       "<AxesSubplot:xlabel='Region'>"
      ]
     },
     "execution_count": 21,
     "metadata": {},
     "output_type": "execute_result"
    },
    {
     "data": {
      "image/png": "[encoded data removed]",
      "text/plain": [
       "<Figure size 432x288 with 1 Axes>"
      ]
     },
     "metadata": {
      "needs_background": "light"
     },
     "output_type": "display_data"
    }
   ],
   "source": [
    "# Visualize\n",
    "dataset.groupby('Region').mean()['SPI'].plot.bar()"
   ]
  },
  {
   "cell_type": "code",
   "execution_count": 22,
   "id": "cc80d75b",
   "metadata": {},
   "outputs": [
    {
     "data": {
      "text/plain": [
       "<AxesSubplot:xlabel='GDP per capacita', ylabel='SPI'>"
      ]
     },
     "execution_count": 22,
     "metadata": {},
     "output_type": "execute_result"
    },
    {
     "data": {
      "image/png": "[encoded data removed]",
      "text/plain": [
       "<Figure size 432x288 with 1 Axes>"
      ]
     },
     "metadata": {
      "needs_background": "light"
     },
     "output_type": "display_data"
    }
   ],
   "source": [
    "dataset.plot.scatter(x='GDP per capacita', y= 'SPI')"
   ]
  },
  {
   "cell_type": "code",
   "execution_count": 26,
   "id": "d120ebb4",
   "metadata": {},
   "outputs": [
    {
     "data": {
      "text/plain": [
       "<AxesSubplot:ylabel='Region'>"
      ]
     },
     "execution_count": 26,
     "metadata": {},
     "output_type": "execute_result"
    },
    {
     "data": {
      "image/png": "[encoded data removed]",
      "text/plain": [
       "<Figure size 432x288 with 1 Axes>"
      ]
     },
     "metadata": {
      "needs_background": "light"
     },
     "output_type": "display_data"
    }
   ],
   "source": [
    "dataset.groupby('Region').mean()['SPI'].sort_values(ascending=False).plot.barh()"
   ]
  },
  {
   "cell_type": "code",
   "execution_count": 28,
   "id": "138d9cf6",
   "metadata": {},
   "outputs": [
    {
     "data": {
      "text/plain": [
       "<AxesSubplot:xlabel='GDP per capacita', ylabel='SPI'>"
      ]
     },
     "execution_count": 28,
     "metadata": {},
     "output_type": "execute_result"
    },
    {
     "data": {
      "image/png": "[encoded data removed]",
      "text/plain": [
       "<Figure size 432x288 with 2 Axes>"
      ]
     },
     "metadata": {
      "needs_background": "light"
     },
     "output_type": "display_data"
    }
   ],
   "source": [
    "colors=dataset['Region'].factorize()[0]\n",
    "dataset.plot.scatter(x='GDP per capacita', y='SPI', c=colors, logx=True, cmap='tab10', xlabel='GDP per capacita')"
   ]
  },
  {
   "cell_type": "code",
   "execution_count": null,
   "id": "318c77ca",
   "metadata": {},
   "outputs": [],
   "source": []
  }
 ],
 "metadata": {
  "kernelspec": {
   "display_name": "Python 3 (ipykernel)",
   "language": "python",
   "name": "python3"
  },
  "language_info": {
   "codemirror_mode": {
    "name": "ipython",
    "version": 3
   },
   "file_extension": ".py",
   "mimetype": "text/x-python",
   "name": "python",
   "nbconvert_exporter": "python",
   "pygments_lexer": "ipython3",
   "version": "3.9.12"
  }
 },
 "nbformat": 4,
 "nbformat_minor": 5
}
